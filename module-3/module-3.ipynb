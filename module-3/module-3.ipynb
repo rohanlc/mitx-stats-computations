{
 "cells": [
  {
   "cell_type": "code",
   "execution_count": 10,
   "metadata": {},
   "outputs": [
    {
     "name": "stdout",
     "output_type": "stream",
     "text": [
      "[[3 1 1 2 1 1 0 1 1 0]\n",
      " [1 4 0 1 0 2 0 1 2 1]\n",
      " [1 0 1 1 1 0 0 0 0 0]\n",
      " [2 1 1 5 2 1 0 0 0 1]\n",
      " [1 0 1 2 3 0 1 0 1 1]\n",
      " [1 2 0 1 0 2 0 1 1 0]\n",
      " [0 0 0 0 1 0 1 0 1 0]\n",
      " [1 1 0 0 0 1 0 1 1 0]\n",
      " [1 2 0 0 1 1 1 1 3 1]\n",
      " [0 1 0 1 1 0 0 0 1 3]]\n"
     ]
    }
   ],
   "source": [
    "import numpy as np\n",
    "\n",
    "A = np.array([[0, 1, 0, 1, 0, 1, 0, 0, 0, 0],\n",
    "\t[1, 0, 1, 1, 1, 0, 0, 0, 0, 0],\n",
    "\t[0, 1, 0, 0, 0, 0, 0, 0, 0, 0],\n",
    "\t[1, 1, 0, 0, 0, 1, 0, 1, 1, 0],\n",
    "\t[0, 1, 0, 0, 0, 0, 0, 0, 1, 1],\n",
    "\t[1, 0, 0, 1, 0, 0, 0, 0, 0, 0],\n",
    "\t[0, 0, 0, 0, 0, 0, 0, 0, 0, 1],\n",
    "\t[0, 0, 0, 1, 0, 0, 0, 0, 0, 0],\n",
    "\t[0, 0, 0, 1, 1, 0, 0, 0, 0, 1],\n",
    "\t[0, 0, 0, 0, 1, 0, 1, 0, 1, 0]])\n",
    "\n",
    "A2 = np.linalg.matrix_power(A, 2)\n",
    "\n",
    "print(A2)"
   ]
  },
  {
   "cell_type": "code",
   "execution_count": 25,
   "metadata": {},
   "outputs": [
    {
     "name": "stdout",
     "output_type": "stream",
     "text": [
      "1030.0\n",
      "8.0\n"
     ]
    }
   ],
   "source": [
    "import numpy as np\n",
    "\n",
    "m = np.zeros((100, 100))\n",
    "\n",
    "with open(\"C:\\\\Users\\\\rohankant.tatelu\\\\OneDrive\\\\dev\\\\stats-modeling-and-computation\\\\module-3\\\\release_directed_graph.txt\") as f:\n",
    "    lines = f.readlines()\n",
    "    for line in lines:\n",
    "        m[int(line.split()[0]) - 1][int(line.split()[1]) - 1] += 1\n",
    "        \n",
    "edges = np.sum(m)    \n",
    "print(edges)\n",
    "\n",
    "trace = np.trace(m)\n",
    "print(trace)\n"
   ]
  },
  {
   "cell_type": "code",
   "execution_count": 12,
   "metadata": {},
   "outputs": [
    {
     "name": "stdout",
     "output_type": "stream",
     "text": [
      "[3. 4. 1. 5. 3. 2. 1. 1. 3. 3.]\n",
      "-0.2041420118343195\n"
     ]
    }
   ],
   "source": [
    "import numpy as np\n",
    "\n",
    "A = np.array([[0, 1, 0, 1, 0, 1, 0, 0, 0, 0],\n",
    "\t[1, 0, 1, 1, 1, 0, 0, 0, 0, 0],\n",
    "\t[0, 1, 0, 0, 0, 0, 0, 0, 0, 0],\n",
    "\t[1, 1, 0, 0, 0, 1, 0, 1, 1, 0],\n",
    "\t[0, 1, 0, 0, 0, 0, 0, 0, 1, 1],\n",
    "\t[1, 0, 0, 1, 0, 0, 0, 0, 0, 0],\n",
    "\t[0, 0, 0, 0, 0, 0, 0, 0, 0, 1],\n",
    "\t[0, 0, 0, 1, 0, 0, 0, 0, 0, 0],\n",
    "\t[0, 0, 0, 1, 1, 0, 0, 0, 0, 1],\n",
    "\t[0, 0, 0, 0, 1, 0, 1, 0, 1, 0]])\n",
    "\n",
    "m = np.sum(A) / 2\n",
    "Mod = 0\n",
    "degree = np.zeros(len(A))\n",
    "colsum = A.sum(axis=0)/2\n",
    "rowsum = A.sum(axis=1)/2\n",
    "degree = colsum + rowsum\n",
    "type1 = np.array([0,2,4,6,8])\n",
    "type2 = np.array([1,3,5,7,9])\n",
    "print(degree)\n",
    "delta = np.zeros(A.shape)\n",
    "\n",
    "for i, row in enumerate(A):\n",
    "    for j, edge in enumerate(row):\n",
    "        if i in type1 and j in type1 or i in type2 and j in type2:\n",
    "            delta[i,j] = 1\n",
    "        Mod += (edge - degree[i] * degree[j] / (2*m)) * delta[i,j]\n",
    "        \n",
    "print(Mod/(2*m))"
   ]
  },
  {
   "cell_type": "code",
   "execution_count": 14,
   "metadata": {},
   "outputs": [
    {
     "name": "stdout",
     "output_type": "stream",
     "text": [
      "{0: 0.9999999999986358, 1: 9.536770448968605e-07, 2: 9.536770448968605e-07, 3: 9.536770448968605e-07}\n"
     ]
    }
   ],
   "source": [
    "import networkx as nx\n",
    "\n",
    "A = nx.DiGraph(np.array([[1,0,0,0],\n",
    "    [1,0,0,0],\n",
    "    [1,0,0,0],\n",
    "    [1,0,0,0]]))\n",
    "\n",
    "C = nx.eigenvector_centrality(A)\n",
    "\n",
    "print(C)\n"
   ]
  },
  {
   "cell_type": "code",
   "execution_count": 15,
   "metadata": {},
   "outputs": [
    {
     "name": "stdout",
     "output_type": "stream",
     "text": [
      "{0: 0.5, 1: 0.5, 2: 0.5, 3: 0.5}\n"
     ]
    }
   ],
   "source": [
    "A = nx.DiGraph(np.array([[1,1,1,1],\n",
    "    [0,0,0,0],\n",
    "    [0,0,0,0],\n",
    "    [0,0,0,0]]))\n",
    "\n",
    "C = nx.eigenvector_centrality(A)\n",
    "\n",
    "print(C)"
   ]
  },
  {
   "cell_type": "code",
   "execution_count": 16,
   "metadata": {},
   "outputs": [
    {
     "name": "stdout",
     "output_type": "stream",
     "text": [
      "{0: 0.7991714905460788, 1: 0.34704703269074766, 2: 0.34704703269074766, 3: 0.34704703269074766}\n"
     ]
    }
   ],
   "source": [
    "A = nx.DiGraph(np.array([[1,1,1,1],\n",
    "    [1,0,0,0],\n",
    "    [1,0,0,0],\n",
    "    [1,0,0,0]]))\n",
    "\n",
    "C = nx.eigenvector_centrality(A)\n",
    "\n",
    "print(C)"
   ]
  },
  {
   "cell_type": "code",
   "execution_count": 19,
   "metadata": {},
   "outputs": [
    {
     "name": "stdout",
     "output_type": "stream",
     "text": [
      "{0: 0.464739412340173, 1: 0.5112133535741904, 2: 0.5112133535741904, 3: 0.5112133535741904}\n"
     ]
    }
   ],
   "source": [
    "A = nx.DiGraph(np.array([[0,1,1,1],\n",
    "    [0,0,0,0],\n",
    "    [0,0,0,0],\n",
    "    [0,0,0,0]]))\n",
    "\n",
    "C = nx.katz_centrality(A)\n",
    "\n",
    "print(C)"
   ]
  },
  {
   "cell_type": "code",
   "execution_count": 22,
   "metadata": {},
   "outputs": [
    {
     "name": "stdout",
     "output_type": "stream",
     "text": [
      "{0: 0.34304516922104655, 1: 0.12178517428468952, 2: 0.12178517428468952, 3: 0.12178517428468952, 4: 0.12178517428468952, 5: 0.09978782025635273, 6: 0.07002631338384244}\n"
     ]
    }
   ],
   "source": [
    "A = nx.DiGraph(np.array([[0, 1, 1, 1, 1, 1, 1],\n",
    "    [1, 0, 1, 0, 0, 0, 0],\n",
    "    [1, 1, 0, 0, 0, 0, 0],\n",
    "    [1, 0, 0, 0, 1, 0, 0],\n",
    "    [1, 0, 0, 1, 0, 0, 0],\n",
    "    [1, 0, 0, 0, 0, 0, 0],\n",
    "    [1, 0, 0, 0, 0, 1, 0]]))\n",
    "\n",
    "K = nx.katz_centrality(A)\n",
    "P = nx.pagerank(A)\n",
    "\n",
    "print(P)"
   ]
  },
  {
   "cell_type": "code",
   "execution_count": 23,
   "metadata": {},
   "outputs": [
    {
     "name": "stdout",
     "output_type": "stream",
     "text": [
      "({0: 0.2544010361540635, 1: 0.13175928388048824, 2: 0.13175928388048824, 3: 0.13175928388048824, 4: 0.13175928388048824, 5: 0.08680254444349543, 6: 0.13175928388048824}, {0: 0.2544010361540633, 1: 0.13175928388048824, 2: 0.13175928388048824, 3: 0.13175928388048824, 4: 0.13175928388048824, 5: 0.13175928388048824, 6: 0.08680254444349549})\n"
     ]
    },
    {
     "name": "stderr",
     "output_type": "stream",
     "text": [
      "c:\\Users\\rohankant.tatelu\\AppData\\Local\\Programs\\Python\\Python310\\lib\\site-packages\\networkx\\algorithms\\link_analysis\\hits_alg.py:78: FutureWarning: adjacency_matrix will return a scipy.sparse array instead of a matrix in Networkx 3.0.\n",
      "  A = nx.adjacency_matrix(G, nodelist=list(G), dtype=float)\n"
     ]
    }
   ],
   "source": [
    "A = nx.DiGraph(np.array([[0, 1, 1, 1, 1, 1, 1],\n",
    "    [1, 0, 1, 0, 0, 0, 0],\n",
    "    [1, 1, 0, 0, 0, 0, 0],\n",
    "    [1, 0, 0, 0, 1, 0, 0],\n",
    "    [1, 0, 0, 1, 0, 0, 0],\n",
    "    [1, 0, 0, 0, 0, 0, 0],\n",
    "    [1, 0, 0, 0, 0, 1, 0]]))\n",
    "\n",
    "C = nx.hits(A)\n",
    "\n",
    "print(C)"
   ]
  },
  {
   "cell_type": "code",
   "execution_count": 27,
   "metadata": {},
   "outputs": [
    {
     "name": "stdout",
     "output_type": "stream",
     "text": [
      "[-0.37147145 -0.33561672 -0.234974   -0.33561672  0.01167123  0.25606343\n",
      "  0.45102474  0.55891949]\n"
     ]
    },
    {
     "name": "stderr",
     "output_type": "stream",
     "text": [
      "<class 'networkx.utils.decorators.argmap'> compilation 25:4: FutureWarning: laplacian_matrix will return a scipy.sparse array instead of a matrix in Networkx 3.0.\n"
     ]
    }
   ],
   "source": [
    "A = nx.from_numpy_matrix(np.array([\n",
    "    [0, 1, 0, 1, 0, 0, 0, 0],\n",
    "    [1, 0, 1, 0, 0, 0, 0, 0],\n",
    "    [0, 1, 0, 1, 1, 0, 0, 0],\n",
    "    [1, 0, 1, 0, 0, 0, 0, 0],\n",
    "    [0, 0, 1, 0, 0, 1, 0, 0],\n",
    "    [0, 0, 0, 0, 1, 0, 1, 0],\n",
    "    [0, 0, 0, 0, 0, 1, 0, 1],\n",
    "    [0, 0, 0, 0, 0, 0, 1, 0]]))\n",
    "\n",
    "V = nx.linalg.algebraicconnectivity.fiedler_vector(A)\n",
    "\n",
    "print(V)"
   ]
  },
  {
   "cell_type": "code",
   "execution_count": 2,
   "metadata": {},
   "outputs": [
    {
     "name": "stdout",
     "output_type": "stream",
     "text": [
      "Graph named 'phase2' with 24 nodes and 28 edges Graph named 'phase6' with 27 nodes and 47 edges Graph named 'phase10' with 42 nodes and 50 edges\n"
     ]
    }
   ],
   "source": [
    "import pandas as pd\n",
    "import networkx as nx\n",
    "phases = {}\n",
    "G = {}\n",
    "for i in range(1,12): \n",
    "  var_name = \"phase\" + str(i)\n",
    "  file_name = \"https://raw.githubusercontent.com/ragini30/Networks-Homework/main/\" + var_name + \".csv\"\n",
    "  phases[i] = pd.read_csv(file_name, index_col = [\"players\"])\n",
    "  phases[i].columns = \"n\" + phases[i].columns\n",
    "  phases[i].index = phases[i].columns\n",
    "  phases[i][phases[i] > 0] = 1\n",
    "  G[i] = nx.from_pandas_adjacency(phases[i])\n",
    "  G[i].name = var_name\n",
    "  \n",
    "print(G[2], G[6], G[10])"
   ]
  },
  {
   "cell_type": "code",
   "execution_count": 5,
   "metadata": {},
   "outputs": [
    {
     "ename": "ImportError",
     "evalue": "requires pygraphviz http://pygraphviz.github.io/",
     "output_type": "error",
     "traceback": [
      "\u001b[1;31m---------------------------------------------------------------------------\u001b[0m",
      "\u001b[1;31mModuleNotFoundError\u001b[0m                       Traceback (most recent call last)",
      "File \u001b[1;32mc:\\Users\\rohankant.tatelu\\AppData\\Local\\Programs\\Python\\Python310\\lib\\site-packages\\networkx\\drawing\\nx_agraph.py:284\u001b[0m, in \u001b[0;36mpygraphviz_layout\u001b[1;34m(G, prog, root, args)\u001b[0m\n\u001b[0;32m    283\u001b[0m \u001b[39mtry\u001b[39;00m:\n\u001b[1;32m--> 284\u001b[0m     \u001b[39mimport\u001b[39;00m \u001b[39mpygraphviz\u001b[39;00m\n\u001b[0;32m    285\u001b[0m \u001b[39mexcept\u001b[39;00m \u001b[39mImportError\u001b[39;00m \u001b[39mas\u001b[39;00m err:\n",
      "\u001b[1;31mModuleNotFoundError\u001b[0m: No module named 'pygraphviz'",
      "\nThe above exception was the direct cause of the following exception:\n",
      "\u001b[1;31mImportError\u001b[0m                               Traceback (most recent call last)",
      "\u001b[1;32mc:\\Users\\rohankant.tatelu\\OneDrive\\dev\\stats-modeling-and-computation\\module-3\\module-3.ipynb Cell 12'\u001b[0m in \u001b[0;36m<cell line: 1>\u001b[1;34m()\u001b[0m\n\u001b[1;32m----> <a href='vscode-notebook-cell:/c%3A/Users/rohankant.tatelu/OneDrive/dev/stats-modeling-and-computation/module-3/module-3.ipynb#ch0000011?line=0'>1</a>\u001b[0m nx\u001b[39m.\u001b[39mdraw(G[\u001b[39m2\u001b[39m], pos\u001b[39m=\u001b[39mnx\u001b[39m.\u001b[39;49mdrawing\u001b[39m.\u001b[39;49mnx_agraph\u001b[39m.\u001b[39;49mgraphviz_layout(G[\u001b[39m2\u001b[39;49m]), with_labels\u001b[39m=\u001b[39m\u001b[39mTrue\u001b[39;00m)\n",
      "File \u001b[1;32mc:\\Users\\rohankant.tatelu\\AppData\\Local\\Programs\\Python\\Python310\\lib\\site-packages\\networkx\\drawing\\nx_agraph.py:242\u001b[0m, in \u001b[0;36mgraphviz_layout\u001b[1;34m(G, prog, root, args)\u001b[0m\n\u001b[0;32m    214\u001b[0m \u001b[39mdef\u001b[39;00m \u001b[39mgraphviz_layout\u001b[39m(G, prog\u001b[39m=\u001b[39m\u001b[39m\"\u001b[39m\u001b[39mneato\u001b[39m\u001b[39m\"\u001b[39m, root\u001b[39m=\u001b[39m\u001b[39mNone\u001b[39;00m, args\u001b[39m=\u001b[39m\u001b[39m\"\u001b[39m\u001b[39m\"\u001b[39m):\n\u001b[0;32m    215\u001b[0m     \u001b[39m\"\"\"Create node positions for G using Graphviz.\u001b[39;00m\n\u001b[0;32m    216\u001b[0m \n\u001b[0;32m    217\u001b[0m \u001b[39m    Parameters\u001b[39;00m\n\u001b[1;32m   (...)\u001b[0m\n\u001b[0;32m    240\u001b[0m \u001b[39m    This is a wrapper for pygraphviz_layout.\u001b[39;00m\n\u001b[0;32m    241\u001b[0m \u001b[39m    \"\"\"\u001b[39;00m\n\u001b[1;32m--> 242\u001b[0m     \u001b[39mreturn\u001b[39;00m pygraphviz_layout(G, prog\u001b[39m=\u001b[39;49mprog, root\u001b[39m=\u001b[39;49mroot, args\u001b[39m=\u001b[39;49margs)\n",
      "File \u001b[1;32mc:\\Users\\rohankant.tatelu\\AppData\\Local\\Programs\\Python\\Python310\\lib\\site-packages\\networkx\\drawing\\nx_agraph.py:286\u001b[0m, in \u001b[0;36mpygraphviz_layout\u001b[1;34m(G, prog, root, args)\u001b[0m\n\u001b[0;32m    284\u001b[0m     \u001b[39mimport\u001b[39;00m \u001b[39mpygraphviz\u001b[39;00m\n\u001b[0;32m    285\u001b[0m \u001b[39mexcept\u001b[39;00m \u001b[39mImportError\u001b[39;00m \u001b[39mas\u001b[39;00m err:\n\u001b[1;32m--> 286\u001b[0m     \u001b[39mraise\u001b[39;00m \u001b[39mImportError\u001b[39;00m(\n\u001b[0;32m    287\u001b[0m         \u001b[39m\"\u001b[39m\u001b[39mrequires pygraphviz \u001b[39m\u001b[39m\"\u001b[39m \u001b[39m\"\u001b[39m\u001b[39mhttp://pygraphviz.github.io/\u001b[39m\u001b[39m\"\u001b[39m\n\u001b[0;32m    288\u001b[0m     ) \u001b[39mfrom\u001b[39;00m \u001b[39merr\u001b[39;00m\n\u001b[0;32m    289\u001b[0m \u001b[39mif\u001b[39;00m root \u001b[39mis\u001b[39;00m \u001b[39mnot\u001b[39;00m \u001b[39mNone\u001b[39;00m:\n\u001b[0;32m    290\u001b[0m     args \u001b[39m+\u001b[39m\u001b[39m=\u001b[39m \u001b[39mf\u001b[39m\u001b[39m\"\u001b[39m\u001b[39m-Groot=\u001b[39m\u001b[39m{\u001b[39;00mroot\u001b[39m}\u001b[39;00m\u001b[39m\"\u001b[39m\n",
      "\u001b[1;31mImportError\u001b[0m: requires pygraphviz http://pygraphviz.github.io/"
     ]
    }
   ],
   "source": [
    "nx.draw(G[2], pos=nx.drawing.nx_agraph.graphviz_layout(G[2]), with_labels=True)  "
   ]
  }
 ],
 "metadata": {
  "kernelspec": {
   "display_name": "Python 3.10.4 64-bit",
   "language": "python",
   "name": "python3"
  },
  "language_info": {
   "codemirror_mode": {
    "name": "ipython",
    "version": 3
   },
   "file_extension": ".py",
   "mimetype": "text/x-python",
   "name": "python",
   "nbconvert_exporter": "python",
   "pygments_lexer": "ipython3",
   "version": "3.10.4"
  },
  "orig_nbformat": 4,
  "vscode": {
   "interpreter": {
    "hash": "ab408d953f17e728d6445a40ebcdf1af472ad545d8bf4d619ff899b97776283c"
   }
  }
 },
 "nbformat": 4,
 "nbformat_minor": 2
}
